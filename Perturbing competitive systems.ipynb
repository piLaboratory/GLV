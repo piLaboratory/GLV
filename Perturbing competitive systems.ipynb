{
 "cells": [
  {
   "cell_type": "markdown",
   "metadata": {},
   "source": [
    "## Conditions for coexistence point in a multi-species Lotka-Volterra model\n",
    "\n",
    "It is straightforward to generalize the classic competition Lotka-Volterra equations to treat multiple species:\n",
    "\n",
    "$$ \\begin{equation}\\frac{dN_i}{dt} = r_i N_i \\left( 1 - \\sum_j a_{ij} N_j \\right) \\end{equation}$$\n",
    "\n",
    "where $a_{ij} \\geq 0$ is the effect of species $j$ on species $i$, and $a_{ii} = \\frac{1}{K_i}$. A fixed point has to satisfy:\n",
    "\n",
    "$$ \\sum_j a_{ij} N_j = 1 \\;,\\forall\\, i $$\n",
    "\n",
    "In particular, in order for it to be positive, we must have:\n",
    "\n",
    "$$ N_i = 1-\\frac{1}{a_{ii}}\\sum_{j \\neq i} a_{ij}N_j > 0  \\;,\\forall i$$\n",
    "\n",
    "Each population, in isolation, reaches at maximum its carrying capacity ($N_j^\\ast \\leq 1/a_{jj}$). Then a sufficient (but not necessary) condition for mutual invasibility - which guarantees the existence of such a fixed point - is:\n",
    "\n",
    "$$ \\frac{1}{a_{ii}}\\sum_{j \\neq i} a_{ij}N_j \\leq \\frac{1}{a_{ii}}\\sum_{j \\neq i} \\frac{a_{ij}}{a_{jj}} < 1 \\; , \\forall i$$\n",
    "\n",
    "Expressing $a$ as a matrix, this means that, in every column, its entries divided by the diagonal entry of each line sums up to at most the diagonal term of the column. we can make this simpler by reescalonating all populations by their carrying capacities, so that $N_i' = a_{ii} N_i$, and $b_{ij} = a_{ij}/a_{jj}$ (in particular, $b_{ii}=1$), so the differential equations read (after dropping the primes):\n",
    "\n",
    "$$ \\frac{dN_i}{dt} = r_i N_i \\left( 1 - N_i - \\sum_{j\\neq i} b_{ij} N_j \\right) $$\n",
    "\n",
    "and the condition above is simply:\n",
    "\n",
    "$$ \\begin{equation}\\boxed{\\sum_{j\\neq i} b_{ij} < 1 \\;,\\forall i}\\end{equation}$$\n",
    "\n",
    "which says that the sum over all non-diagonal entries of each column must be smaller than 1.\n",
    "\n",
    "Approaching the problem using matrix algebra, the solution is\n",
    "\n",
    "$$ \\begin{equation}N^* = B^{-1} [1] ~,\\end{equation}$$ or without reescalonating, $N^* = A^{-1} [1]$,\n",
    "\n",
    "where $N^*$ is the vector of populations, $B$ ($A$) is the matrix composed by the $b_{ij}$ ($a_{ij}$), and $[1]$ is a column whose entries are 1. We can also find the fixed point by iteration, yielding:\n",
    "\n",
    "$$ N^* = \\left(\\sum_{i=0}^\\infty (-1)^i B^i\\right) [1] $$\n",
    "\n",
    "\n",
    "### Stability criteria\n",
    "\n",
    "Assuming that a positive fixed point exists, the Jacobian calculated at that point is\n",
    "\n",
    "$$ \\begin{equation} \\boxed{J_{ij} = r_i N^*_i b_{ij}} \\end{equation}$$\n",
    "\n",
    "and the stability is determined by the real part of its largest eigenvalue. One *necessary* condition for stability is\n",
    "\n",
    "$$ \\begin{equation} (-1)^S det(B) > 0 \\end{equation}$$\n",
    "\n",
    "where $S$ is the number of species. The same criterion applies without reescalonating, that is, $(-1)^S det(A) > 0$."
   ]
  },
  {
   "cell_type": "markdown",
   "metadata": {},
   "source": [
    "### Summary\n",
    "\n",
    "We have two *necessary* conditions for existence of a stable fixed point:\n",
    "\n",
    "* $N^* = B^{-1} [1]$ yields positive values only for the populations $N_i$.\n",
    "* $(-1)^S det(B) > 0$\n",
    "\n",
    "Both of those are also valid without changing the population scales, that is, for the matrix $A$.\n",
    "\n",
    "We have a *sufficient* condition for mutual invasibility, that guarantees that the solution is positive:\n",
    "\n",
    "$$ \\sum_{j\\neq i} b_{ij} < 1 \\;,\\forall i $$\n",
    "\n",
    "That, rewritten in terms of non-rescaled parameters, reads:\n",
    "\n",
    "$$ \\frac{1}{a_{ii}}\\sum_{j \\neq i} \\frac{a_{ij}}{a_{jj}} < 1 \\; , \\forall i$$\n",
    "\n",
    "We can establish through simulations that the first two necessary conditions are not sufficient, by exhibiting systems that satisfy them but whose simulated solution leads to exclusion of some populations. The same information could be obtained by calculating the eigenvalue around the coexistence fixed point.\n",
    "\n",
    "## Nota\n",
    "Preenchi a diagonal da matriz B com 1's e aí o sorteio resulta em solucao estavel, ao contrário do que está escrito acima."
   ]
  },
  {
   "cell_type": "code",
   "execution_count": 2,
   "metadata": {
    "collapsed": false
   },
   "outputs": [
    {
     "name": "stdout",
     "output_type": "stream",
     "text": [
      "Populating the interactive namespace from numpy and matplotlib\n",
      "eigenvalues: [ 1.00000000+0.j          0.12182998+0.j          0.17219520+0.08422372j\n",
      "  0.17219520-0.08422372j  0.15465017+0.05099701j  0.15465017-0.05099701j\n",
      "  0.37216516+0.06389319j  0.37216516-0.06389319j  0.36118470+0.j\n",
      "  0.47525903+0.j        ]\n",
      "final populations: [ 0.24471983  0.30743987  0.42175762  0.4921814   0.2068496   0.55848547\n",
      "  0.53273846  0.27448449  0.17207237  0.14556564]\n"
     ]
    },
    {
     "data": {
      "image/png": "[encoded data removed]",
      "text/plain": [
       "<matplotlib.figure.Figure at 0x7f2aecb019e8>"
      ]
     },
     "metadata": {},
     "output_type": "display_data"
    }
   ],
   "source": [
    "# imports numpy and matplotlib with inline figures\n",
    "%pylab inline\n",
    "# larger plots and fonts, please\n",
    "pylab.rcParams['figure.figsize'] = (10.0, 6.0)\n",
    "pylab.rcParams['font.size'] = 12\n",
    "\n",
    "from scipy.integrate import odeint\n",
    "\n",
    "# number of species\n",
    "S = 10\n",
    "\n",
    "# let's generate random matrices that satisfy the necessary conditions\n",
    "N = D = -1\n",
    "while any(N <= 0) or D < 0:\n",
    "    A = abs(random.normal(0, .3, size=(S, S)))\n",
    "    fill_diagonal(A, 1) # fill diagonal with ones\n",
    "    N = solve(A, ones(S))\n",
    "    D = (-1)**S * det(A)\n",
    "\n",
    "# we can compute the stability directly calculating the eigenvalues\n",
    "# we assume all r_i = 1\n",
    "J = A * N[:,newaxis]\n",
    "# print(A) # uncomment if to check A matrix\n",
    "print('eigenvalues:', eigvals(J))\n",
    "\n",
    "# or we can solve the corresponding system of ODEs\n",
    "# again, assume all r_i = 1\n",
    "def LK(y, t):\n",
    "    return y * (1 - A.dot(y))\n",
    "\n",
    "y0 = N + 1e-4 * ones(S)\n",
    "t = arange(0, 200, 1.)\n",
    "n = odeint(LK, y0, t)\n",
    "plot(t, n)\n",
    "yscale('log')\n",
    "xlabel('time')\n",
    "ylabel('population')\n",
    "print ('final populations:', n[-1])"
   ]
  },
  {
   "cell_type": "markdown",
   "metadata": {},
   "source": [
    "## Recurrent perturbation as an average extra mortality\n",
    "\n",
    "Suppose that at every period $\\tau$ the system suffers a perturbation that causes a fraction $m$ of the populations to die. The way this happens is a key assumption for what we do next: if perturbation occurs via depletion of resources, or by reduction of the available area, we would expect competition, both intra- and inter-specific, to be altered in some way. By assuming that this perturbation leads directly to death, we avoid such complications (which could be interesting nonetheless, but more complex).\n",
    "\n",
    "We will look at a single population, but later we will see that the same result should apply to any number of populations. The single species case reduces to the logistic equation, with a periodic impulse (this is a so-called *impulsive differential equation*):\n",
    "\n",
    "$$ \\begin{aligned}\n",
    "    \\frac{dN}{dt} &= rN\\left(1-\\frac{N}{K}\\right) &\\text{for }t \\neq k \\tau \\\\\n",
    "    N(t^+) &= (1-m) N(t^-) &\\text{at } t=k\\tau, k\\in\\mathbb{N}\n",
    "\\end{aligned}$$\n",
    "\n",
    "We average the mortality in the following way: the solution of the recurrence relation, ignoring the dynamics in the continuous interval, would be $N(t_k) = (1-m)^k N(t_0) = N(t_0) e^{k\\log(1-m)}$. Approximating this solution in continuous time, it would become $N(t) = N(0) e^{\\frac{t}{\\tau}\\log(1-m)}$. This is the same solution that would be obtained from a differential equation that read \n",
    "\n",
    "$$ \\frac{dN}{dt} = \\frac{\\log(1-m)}{\\tau} N = -dN $$\n",
    "\n",
    "Therefore we set $d = -\\frac{log(1-m)}{\\tau}$ and rewrite a continuous time differential equation including the discrete perturbation as a continuous mortality:\n",
    "\n",
    "$$ \\frac{dN}{dt} = rN\\left(1-\\frac{N}{K}\\right) -dN$$\n",
    "\n",
    "Inverting the expression for $d$, we have that $m = 1-e^{-d \\tau}$. We compare the solutions of the impulsive and the ordinary (continuous) differential equations below."
   ]
  },
  {
   "cell_type": "code",
   "execution_count": 2,
   "metadata": {
    "collapsed": false
   },
   "outputs": [
    {
     "name": "stdout",
     "output_type": "stream",
     "text": [
      "Populating the interactive namespace from numpy and matplotlib\n"
     ]
    },
    {
     "data": {
      "text/plain": [
       "<matplotlib.legend.Legend at 0x7ffdfe8c8f28>"
      ]
     },
     "execution_count": 2,
     "metadata": {},
     "output_type": "execute_result"
    },
    {
     "data": {
      "image/png": "[encoded data removed]",
      "text/plain": [
       "<matplotlib.figure.Figure at 0x7ffe1a379400>"
      ]
     },
     "metadata": {},
     "output_type": "display_data"
    }
   ],
   "source": [
    "# imports numpy and matplotlib with inline figures\n",
    "%pylab inline\n",
    "# larger plots and fonts, please\n",
    "pylab.rcParams['figure.figsize'] = (10.0, 6.0)\n",
    "pylab.rcParams['font.size'] = 12\n",
    "from scipy.integrate import odeint\n",
    "\n",
    "r = 1.\n",
    "K = 10.\n",
    "tau = .5\n",
    "d = .1\n",
    "m = 1 - exp(-d*tau)\n",
    "tmax = 20.\n",
    "# number of jumps\n",
    "n = int(tmax / tau)\n",
    "y0 = 1.\n",
    "# time-step of integration, should be much smaller than tau\n",
    "dt = 0.001\n",
    "\n",
    "def logist(y, t, r, K, d):\n",
    "    return r*y*(1-y/K) - d*y\n",
    "\n",
    "# the impulsive equation\n",
    "t = arange(0, tau+dt/2., dt)\n",
    "y = array([y0])\n",
    "for i in range(n):\n",
    "    yi = odeint(logist, y[-1]*(1-m), t, (r, K, 0))\n",
    "    y = vstack((y, yi[1:]))\n",
    "y = y[1:]\n",
    "\n",
    "# the average differential equation\n",
    "tt = arange(0, n*tau, dt)\n",
    "ya = odeint(logist, y0, tt, (r, K, d))\n",
    "\n",
    "plot(tt, y, label='impulsive')\n",
    "plot(tt, ya, label='averaged')\n",
    "xlabel('time')\n",
    "ylabel('population')\n",
    "legend(loc='lower right')\n"
   ]
  },
  {
   "cell_type": "markdown",
   "metadata": {},
   "source": [
    "## Coexistence under a constant mortality\n",
    "\n",
    "Now let us suppose that there is a recurrent perturbation, that can be approximated by a constant mortality rate, $d$, that inflicts all the populations equally. We assume that this mortality is smaller than the maximum growth rate of every population ($d < r_i$). So the equations are now:\n",
    "\n",
    "$$ \\begin{equation}\\frac{dN_i}{dt} = r_i N_i \\left( 1 - N_i - \\sum_{j\\neq i} b_{ij} N_j \\right) - d N_i \\end{equation}$$\n",
    "\n",
    "This can be rearranged as\n",
    "\n",
    "$$ \\frac{dN_i}{dt} = (r_i-d) N_i \\left( 1 - \\frac{r_i}{r_i-d}N_i - \\frac{r_i}{r_i-d}\\sum_{j\\neq i} b_{ij} N_j \\right)$$\n",
    "\n",
    "that can be reescalonated by $N_i' = \\frac{r_i}{r_i-d} N_i$, leading to (dropping primes):\n",
    "\n",
    "$$ \\begin{equation} \\frac{dN_i}{dt} = (r_i-d) N_i \\left( 1 - N_i - \\frac{r_i}{r_i-d}\\sum_{j\\neq i} b_{ij} N_j \\frac{r_j-d}{r_j} \\right) \\end{equation}$$\n",
    "\n",
    "This system is of the same form as in the first section, with\n",
    "\n",
    "$$ \\begin{align}\n",
    "    r_i' &= r_i-d \\\\\n",
    "    b_{ij}' &= \\frac{1-\\tfrac{d}{r_j}}{1-\\tfrac{d}{r_i}} b_{ij}\n",
    "    \\end{align} $$\n",
    "\n",
    "Now the condition for existence of the fixed point becomes\n",
    "\n",
    "$$ \\frac{r_i}{r_i-d} \\sum_{j\\neq i} \\left(1-\\frac{d}{r_j}\\right) b_{ij} = \n",
    "\\frac{1}{c_i} \\sum_{j\\neq i} c_j b_{ij} < 1 \\;,\\forall i$$\n",
    "\n",
    "where $c_i \\equiv \\left(1-\\frac{d}{r_i}\\right) \\leq 1$ always increases with $r_i$.\n",
    "\n",
    "Under the original population scale (that is, using the $a_{ij}$ parameters), the addition of a mortality $d$ leads to a new system with parameters equivalent to:\n",
    "\n",
    "$$ \\begin{align}\n",
    "    r_i'&= r_i-d \\\\\n",
    "    a_{ij}' &= \\frac{1}{1-\\tfrac{d}{r_i}} a_{ij}\n",
    "    \\end{align} ~,$$\n",
    "    \n",
    "which affects the carrying capacities $K_i = \\frac{1}{a_{ii}}$ as well."
   ]
  },
  {
   "cell_type": "markdown",
   "metadata": {},
   "source": [
    "## The 2-species case\n",
    "\n",
    "The analysis is considerably simpler if we have only 2 species. In this case, we can compute the fixed point directly as well. First, the conditions for the $C_i$ are:\n",
    "\n",
    "$$ C_1 = \\frac{c_2}{c_1} b_{12} < 1\\quad \n",
    "   C_2 = \\frac{c_1}{c_2} b_{21} < 1\n",
    "$$\n",
    "\n",
    "We can see that $C_1 C_2 = b_{12}b_{21}$, so if we start with $b$'s such that this product is greater than $1$, it is impossible to have both $C$'s smaller than $1$, no matter the value of the $c_i$'s (that is, $d$ and the $r_i$'s).\n",
    "\n",
    "So much for sufficient conditions. The fixed points can be found explicitly (assuming no perturbation):\n",
    "\n",
    "$$ N_1^* = \\frac{1-b_{12}}{1-b_{21} b_{12}} \\quad N_2^* = \\frac{1-b_{21}}{1-b_{21} b_{12}}$$\n",
    "\n",
    "and the Jacobian at this fixed point is:\n",
    "\n",
    "$$ J = \\begin{pmatrix} \n",
    "-r_1 N_1^*       & -b_{12} r_1 N_1^* \\\\\n",
    "-b_{21} r_2 N_2^* &-r_2 N_2^*\n",
    "\\end{pmatrix} $$\n",
    "\n",
    "So the necessary and sufficient conditions for stable coexistence are $b_{12} b_{21} < 1$ and $b_{12}, b_{21} < 1$. Under perturbation, the first condition ($b_{12} b_{21} < 1$) remains the same, while the second reads $b_{12}c_2/c_1, b_{21}c_1/c_2 < 1$. Thus, if in the absence of perturbation one species is excluded but the first condition is met, there will be a value for the perturbation $d$ that leads to coexistence if the initially excluded species has a higher $r$.\n"
   ]
  },
  {
   "cell_type": "markdown",
   "metadata": {},
   "source": [
    "### The net effect of mortality -- useless analysis since $C_i$ is too restrictive\n",
    "\n",
    "We define $C_i$ as:\n",
    "\n",
    "$$ C_i(d, \\vec{r}, B) \\equiv \\frac{1}{c_i} \\sum_{j\\neq i} c_j b_{ij} $$\n",
    "\n",
    "so that the coexistence condition is just $C_i < 1$. We can assess the effect of the perturbations by calculating $\\frac{dC_i}{dd}$:\n",
    "\n",
    "$$\n",
    "\\frac{dC_i}{dd} = \\frac{1}{r_i-d} \\left(C_i - r_i \\sum_{j\\neq i} \\frac{1}{r_j} b_{ij}\\right)\n",
    "=  \\frac{r_i}{(r_i-d)^2} \\sum_{j\\neq i} \\left(\\frac{r_j-r_i}{r_j} b_{ij}\\right)\n",
    "$$\n",
    "\n",
    "We thus see that **perturbation facilitates the persistence of fast-growing species** ($r_i > r_j$ for every $j$ leads to $dC/dd < 0$)."
   ]
  },
  {
   "cell_type": "markdown",
   "metadata": {},
   "source": [
    "### Trade-offs between growth and competitive ability -- let's not do it this way\n",
    "\n",
    "Let us rewrite the last condition in terms of the original competition parameters $a_{ij}$:\n",
    "\n",
    "$$ \\frac{1}{a_{ii}\\left(1-\\frac{d}{r_i}\\right)}\\sum_j \\left(1-\\frac{d}{r_j}\\right)\\frac{a_{ij}}{a_{jj}}  < 1 \\;,\\forall i$$\n",
    "\n",
    "Now introduce a trade-off between intrinsic growth rate $r$ and competitive ability $a$. "
   ]
  },
  {
   "cell_type": "markdown",
   "metadata": {},
   "source": [
    "PS: numbered equations in the notebook: edit \n",
    "/usr/lib/python3.4/site-packages/IPython/html/static/notebook/js/mathjaxutils.js\n",
    "\n",
    "source: http://stackoverflow.com/questions/18823779/ipython-notebook-and-mathjax-labeled-equations"
   ]
  }
 ],
 "metadata": {
  "kernelspec": {
   "display_name": "Python 3",
   "language": "python",
   "name": "python3"
  },
  "language_info": {
   "codemirror_mode": {
    "name": "ipython",
    "version": 3
   },
   "file_extension": ".py",
   "mimetype": "text/x-python",
   "name": "python",
   "nbconvert_exporter": "python",
   "pygments_lexer": "ipython3",
   "version": "3.5.1"
  }
 },
 "nbformat": 4,
 "nbformat_minor": 0
}
